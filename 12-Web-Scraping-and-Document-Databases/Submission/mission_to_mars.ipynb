{
 "cells": [
  {
   "cell_type": "code",
   "execution_count": 25,
   "id": "81a4975a",
   "metadata": {},
   "outputs": [],
   "source": [
    "import pandas as pd\n",
    "from splinter import Browser\n",
    "from bs4 import BeautifulSoup\n",
    "from webdriver_manager.chrome import ChromeDriverManager\n"
   ]
  },
  {
   "cell_type": "code",
   "execution_count": 26,
   "id": "e4fa3b1a",
   "metadata": {},
   "outputs": [
    {
     "name": "stderr",
     "output_type": "stream",
     "text": [
      "\n",
      "\n",
      "====== WebDriver manager ======\n",
      "Current google-chrome version is 99.0.4844\n",
      "Get LATEST chromedriver version for 99.0.4844 google-chrome\n",
      "Driver [/Users/sabrinaalves/.wdm/drivers/chromedriver/mac64/99.0.4844.51/chromedriver] found in cache\n"
     ]
    }
   ],
   "source": [
    " # Setup splinter INSTEAD\n",
    "executable_path = {'executable_path': ChromeDriverManager().install()}\n",
    "browser = Browser('chrome', **executable_path, headless=False)"
   ]
  },
  {
   "cell_type": "markdown",
   "id": "82c09fc1",
   "metadata": {},
   "source": [
    "# NASA Mars News"
   ]
  },
  {
   "cell_type": "code",
   "execution_count": 27,
   "id": "eb9a7dd7",
   "metadata": {},
   "outputs": [],
   "source": [
    "#establish url of site\n",
    "url = \"https://redplanetscience.com/\"\n",
    "browser.visit(url)\n",
    "html = browser.html\n",
    "soup = BeautifulSoup(html, \"lxml\")"
   ]
  },
  {
   "cell_type": "code",
   "execution_count": 28,
   "id": "23f25abe",
   "metadata": {},
   "outputs": [
    {
     "data": {
      "text/plain": [
       "'NASA Invites Public to Share Excitement of Mars 2020 Perseverance Rover Launch'"
      ]
     },
     "execution_count": 28,
     "metadata": {},
     "output_type": "execute_result"
    }
   ],
   "source": [
    "#get first news title\n",
    "news_title = soup.find_all(\"div\", {\"class\": \"content_title\"})[0].text.strip()\n",
    "news_title"
   ]
  },
  {
   "cell_type": "code",
   "execution_count": 29,
   "id": "2ed565a3",
   "metadata": {},
   "outputs": [
    {
     "data": {
      "text/plain": [
       "'There are lots of ways to participate in the historic event, which is targeted for July 30.'"
      ]
     },
     "execution_count": 29,
     "metadata": {},
     "output_type": "execute_result"
    }
   ],
   "source": [
    "#get text of first news title\n",
    "news_text= soup.find_all(\"div\", {\"class\": \"article_teaser_body\"})[0].text.strip()\n",
    "news_text"
   ]
  },
  {
   "cell_type": "code",
   "execution_count": null,
   "id": "3ae0400c",
   "metadata": {},
   "outputs": [],
   "source": []
  },
  {
   "cell_type": "markdown",
   "id": "1efdca54",
   "metadata": {},
   "source": [
    "# JPL Mars Space Images - Featured Image"
   ]
  },
  {
   "cell_type": "code",
   "execution_count": 6,
   "id": "e7b92b69",
   "metadata": {},
   "outputs": [],
   "source": [
    "url = \"https://spaceimages-mars.com/\"\n",
    "\n",
    "browser.visit(url)\n",
    "html = browser.html\n",
    "soup = BeautifulSoup(html, \"lxml\")"
   ]
  },
  {
   "cell_type": "code",
   "execution_count": 7,
   "id": "dec8a0dd",
   "metadata": {},
   "outputs": [
    {
     "data": {
      "text/plain": [
       "'https://spaceimages-mars.com/image/featured/mars2.jpg'"
      ]
     },
     "execution_count": 7,
     "metadata": {},
     "output_type": "execute_result"
    }
   ],
   "source": [
    "#get link of image in header\n",
    "#inspiration for approach: https://www.codegrepper.com/code-examples/python/seautiful+soup+get+href+from+a+class\n",
    "for image in soup.find_all(\"a\", {\"class\": \"showimg fancybox-thumbs\"}):\n",
    "    image_url = image[\"href\"]\n",
    "    \n",
    "featured_image_url = url + image_url\n",
    "featured_image_url"
   ]
  },
  {
   "cell_type": "code",
   "execution_count": null,
   "id": "44e1af2e",
   "metadata": {},
   "outputs": [],
   "source": []
  },
  {
   "cell_type": "markdown",
   "id": "8f31fcae",
   "metadata": {},
   "source": [
    "# Mars Facts"
   ]
  },
  {
   "cell_type": "code",
   "execution_count": 8,
   "id": "d8b74b58",
   "metadata": {},
   "outputs": [],
   "source": [
    "url = \"https://galaxyfacts-mars.com/\"\n",
    "\n",
    "browser.visit(url)\n",
    "html = browser.html\n",
    "soup = BeautifulSoup(html, \"lxml\")"
   ]
  },
  {
   "cell_type": "code",
   "execution_count": 9,
   "id": "ffb782b0",
   "metadata": {},
   "outputs": [
    {
     "data": {
      "text/plain": [
       "2"
      ]
     },
     "execution_count": 9,
     "metadata": {},
     "output_type": "execute_result"
    }
   ],
   "source": [
    "#check to see how many tables there are\n",
    "dfs = pd.read_html(html)\n",
    "len(dfs)"
   ]
  },
  {
   "cell_type": "code",
   "execution_count": 10,
   "id": "0017e17c",
   "metadata": {},
   "outputs": [
    {
     "data": {
      "text/html": [
       "<div>\n",
       "<style scoped>\n",
       "    .dataframe tbody tr th:only-of-type {\n",
       "        vertical-align: middle;\n",
       "    }\n",
       "\n",
       "    .dataframe tbody tr th {\n",
       "        vertical-align: top;\n",
       "    }\n",
       "\n",
       "    .dataframe thead th {\n",
       "        text-align: right;\n",
       "    }\n",
       "</style>\n",
       "<table border=\"1\" class=\"dataframe\">\n",
       "  <thead>\n",
       "    <tr style=\"text-align: right;\">\n",
       "      <th></th>\n",
       "      <th>0</th>\n",
       "      <th>1</th>\n",
       "    </tr>\n",
       "  </thead>\n",
       "  <tbody>\n",
       "    <tr>\n",
       "      <th>0</th>\n",
       "      <td>Equatorial Diameter:</td>\n",
       "      <td>6,792 km</td>\n",
       "    </tr>\n",
       "    <tr>\n",
       "      <th>1</th>\n",
       "      <td>Polar Diameter:</td>\n",
       "      <td>6,752 km</td>\n",
       "    </tr>\n",
       "    <tr>\n",
       "      <th>2</th>\n",
       "      <td>Mass:</td>\n",
       "      <td>6.39 × 10^23 kg (0.11 Earths)</td>\n",
       "    </tr>\n",
       "    <tr>\n",
       "      <th>3</th>\n",
       "      <td>Moons:</td>\n",
       "      <td>2 ( Phobos &amp; Deimos )</td>\n",
       "    </tr>\n",
       "    <tr>\n",
       "      <th>4</th>\n",
       "      <td>Orbit Distance:</td>\n",
       "      <td>227,943,824 km (1.38 AU)</td>\n",
       "    </tr>\n",
       "    <tr>\n",
       "      <th>5</th>\n",
       "      <td>Orbit Period:</td>\n",
       "      <td>687 days (1.9 years)</td>\n",
       "    </tr>\n",
       "    <tr>\n",
       "      <th>6</th>\n",
       "      <td>Surface Temperature:</td>\n",
       "      <td>-87 to -5 °C</td>\n",
       "    </tr>\n",
       "    <tr>\n",
       "      <th>7</th>\n",
       "      <td>First Record:</td>\n",
       "      <td>2nd millennium BC</td>\n",
       "    </tr>\n",
       "    <tr>\n",
       "      <th>8</th>\n",
       "      <td>Recorded By:</td>\n",
       "      <td>Egyptian astronomers</td>\n",
       "    </tr>\n",
       "  </tbody>\n",
       "</table>\n",
       "</div>"
      ],
      "text/plain": [
       "                      0                              1\n",
       "0  Equatorial Diameter:                       6,792 km\n",
       "1       Polar Diameter:                       6,752 km\n",
       "2                 Mass:  6.39 × 10^23 kg (0.11 Earths)\n",
       "3                Moons:          2 ( Phobos & Deimos )\n",
       "4       Orbit Distance:       227,943,824 km (1.38 AU)\n",
       "5         Orbit Period:           687 days (1.9 years)\n",
       "6  Surface Temperature:                   -87 to -5 °C\n",
       "7         First Record:              2nd millennium BC\n",
       "8          Recorded By:           Egyptian astronomers"
      ]
     },
     "execution_count": 10,
     "metadata": {},
     "output_type": "execute_result"
    }
   ],
   "source": [
    "#locate table for mars\n",
    "mars_info = dfs[1]\n",
    "mars_info"
   ]
  },
  {
   "cell_type": "code",
   "execution_count": 11,
   "id": "170c5d5e",
   "metadata": {},
   "outputs": [
    {
     "data": {
      "text/html": [
       "<div>\n",
       "<style scoped>\n",
       "    .dataframe tbody tr th:only-of-type {\n",
       "        vertical-align: middle;\n",
       "    }\n",
       "\n",
       "    .dataframe tbody tr th {\n",
       "        vertical-align: top;\n",
       "    }\n",
       "\n",
       "    .dataframe thead th {\n",
       "        text-align: right;\n",
       "    }\n",
       "</style>\n",
       "<table border=\"1\" class=\"dataframe\">\n",
       "  <thead>\n",
       "    <tr style=\"text-align: right;\">\n",
       "      <th></th>\n",
       "      <th>category</th>\n",
       "      <th>mars_info</th>\n",
       "    </tr>\n",
       "  </thead>\n",
       "  <tbody>\n",
       "    <tr>\n",
       "      <th>0</th>\n",
       "      <td>Equatorial Diameter:</td>\n",
       "      <td>6,792 km</td>\n",
       "    </tr>\n",
       "    <tr>\n",
       "      <th>1</th>\n",
       "      <td>Polar Diameter:</td>\n",
       "      <td>6,752 km</td>\n",
       "    </tr>\n",
       "    <tr>\n",
       "      <th>2</th>\n",
       "      <td>Mass:</td>\n",
       "      <td>6.39 × 10^23 kg (0.11 Earths)</td>\n",
       "    </tr>\n",
       "    <tr>\n",
       "      <th>3</th>\n",
       "      <td>Moons:</td>\n",
       "      <td>2 ( Phobos &amp; Deimos )</td>\n",
       "    </tr>\n",
       "    <tr>\n",
       "      <th>4</th>\n",
       "      <td>Orbit Distance:</td>\n",
       "      <td>227,943,824 km (1.38 AU)</td>\n",
       "    </tr>\n",
       "    <tr>\n",
       "      <th>5</th>\n",
       "      <td>Orbit Period:</td>\n",
       "      <td>687 days (1.9 years)</td>\n",
       "    </tr>\n",
       "    <tr>\n",
       "      <th>6</th>\n",
       "      <td>Surface Temperature:</td>\n",
       "      <td>-87 to -5 °C</td>\n",
       "    </tr>\n",
       "    <tr>\n",
       "      <th>7</th>\n",
       "      <td>First Record:</td>\n",
       "      <td>2nd millennium BC</td>\n",
       "    </tr>\n",
       "    <tr>\n",
       "      <th>8</th>\n",
       "      <td>Recorded By:</td>\n",
       "      <td>Egyptian astronomers</td>\n",
       "    </tr>\n",
       "  </tbody>\n",
       "</table>\n",
       "</div>"
      ],
      "text/plain": [
       "               category                      mars_info\n",
       "0  Equatorial Diameter:                       6,792 km\n",
       "1       Polar Diameter:                       6,752 km\n",
       "2                 Mass:  6.39 × 10^23 kg (0.11 Earths)\n",
       "3                Moons:          2 ( Phobos & Deimos )\n",
       "4       Orbit Distance:       227,943,824 km (1.38 AU)\n",
       "5         Orbit Period:           687 days (1.9 years)\n",
       "6  Surface Temperature:                   -87 to -5 °C\n",
       "7         First Record:              2nd millennium BC\n",
       "8          Recorded By:           Egyptian astronomers"
      ]
     },
     "execution_count": 11,
     "metadata": {},
     "output_type": "execute_result"
    }
   ],
   "source": [
    "#rename columns\n",
    "mars_info = mars_info.rename(columns={0:\"category\", 1:\"mars_info\"})\n",
    "mars_info"
   ]
  },
  {
   "cell_type": "code",
   "execution_count": 12,
   "id": "5c2946ff",
   "metadata": {},
   "outputs": [],
   "source": [
    "#convert df to html file\n",
    "mars_info.to_html(\"mars_info.html\")"
   ]
  },
  {
   "cell_type": "code",
   "execution_count": null,
   "id": "52c081fb",
   "metadata": {},
   "outputs": [],
   "source": []
  },
  {
   "cell_type": "markdown",
   "id": "efe78bc6",
   "metadata": {},
   "source": [
    "# Mars Hemispheres"
   ]
  },
  {
   "cell_type": "code",
   "execution_count": 13,
   "id": "ba1c69b7",
   "metadata": {},
   "outputs": [],
   "source": [
    "url = \"https://marshemispheres.com/\"\n",
    "browser.visit(url)\n",
    "html = browser.html\n",
    "soup = BeautifulSoup(html, \"lxml\")"
   ]
  },
  {
   "cell_type": "code",
   "execution_count": 14,
   "id": "13e26610",
   "metadata": {},
   "outputs": [
    {
     "data": {
      "text/plain": [
       "<div class=\"item\">\n",
       "<a class=\"itemLink product-item\" href=\"cerberus.html\"><img alt=\"Cerberus Hemisphere Enhanced thumbnail\" class=\"thumb\" src=\"images/39d3266553462198bd2fbc4d18fbed17_cerberus_enhanced.tif_thumb.png\"/></a>\n",
       "<div class=\"description\">\n",
       "<a class=\"itemLink product-item\" href=\"cerberus.html\">\n",
       "<h3>Cerberus Hemisphere Enhanced</h3>\n",
       "</a>\n",
       "<span class=\"subtitle\" style=\"float:left\">image/tiff 21 MB</span><span class=\"pubDate\" style=\"float:right\"></span><br/>\n",
       "<p>Mosaic of the Cerberus hemisphere of Mars projected into point perspective, a view similar to that which one would see from a spacecraft. This mosaic is composed of 104 Viking Orbiter images acquired…</p>\n",
       "</div>\n",
       "<!-- end description -->\n",
       "</div>"
      ]
     },
     "execution_count": 14,
     "metadata": {},
     "output_type": "execute_result"
    }
   ],
   "source": [
    "#review html text of webpage for code\n",
    "items = soup.find_all(\"div\", {\"class\": \"item\"})\n",
    "item = items[0]\n",
    "item"
   ]
  },
  {
   "cell_type": "code",
   "execution_count": 15,
   "id": "1a87a3a6",
   "metadata": {},
   "outputs": [
    {
     "data": {
      "text/plain": [
       "'https://marshemispheres.com/cerberus.html'"
      ]
     },
     "execution_count": 15,
     "metadata": {},
     "output_type": "execute_result"
    }
   ],
   "source": [
    "#find url for image (click not working)\n",
    "find_image = item.find(\"a\")[\"href\"]\n",
    "image_link = url+ find_image\n",
    "\n",
    "#rewrite into one line\n",
    "image_link = url+item.find(\"a\")[\"href\"]\n",
    "image_link"
   ]
  },
  {
   "cell_type": "code",
   "execution_count": 16,
   "id": "4be054d9",
   "metadata": {},
   "outputs": [],
   "source": [
    "#let ChromeDriver travel to new page\n",
    "url2 = image_link\n",
    "browser.visit(url2)\n",
    "html2 = browser.html\n",
    "soup2 = BeautifulSoup(html2, \"lxml\")"
   ]
  },
  {
   "cell_type": "code",
   "execution_count": 17,
   "id": "c62918ea",
   "metadata": {},
   "outputs": [
    {
     "data": {
      "text/plain": [
       "'Cerberus Hemisphere'"
      ]
     },
     "execution_count": 17,
     "metadata": {},
     "output_type": "execute_result"
    }
   ],
   "source": [
    "#get title but drop the 'Enchanced' and spacing\n",
    "title = soup2.find(\"h2\", {\"class\":\"title\"}).text.strip('Enhanced').strip()\n",
    "title"
   ]
  },
  {
   "cell_type": "code",
   "execution_count": 18,
   "id": "77fcee2f",
   "metadata": {},
   "outputs": [
    {
     "data": {
      "text/plain": [
       "'https://marshemispheres.com/images/f5e372a36edfa389625da6d0cc25d905_cerberus_enhanced.tif_full.jpg'"
      ]
     },
     "execution_count": 18,
     "metadata": {},
     "output_type": "execute_result"
    }
   ],
   "source": [
    "#get image url (does not work with URL 2)\n",
    "image_item = soup2.find(\"img\", {\"class\":\"wide-image\"})[\"src\"]\n",
    "img_url = url + image_item\n",
    "\n",
    "\n",
    "#rewrite into one line\n",
    "img_url = url + soup2.find(\"img\", {\"class\":\"wide-image\"})[\"src\"]\n",
    "img_url"
   ]
  },
  {
   "cell_type": "code",
   "execution_count": 19,
   "id": "7d5a29b0",
   "metadata": {},
   "outputs": [],
   "source": [
    "#above is testing for one item; return to first page\n",
    "url = \"https://marshemispheres.com/\"\n",
    "browser.visit(url)\n",
    "html = browser.html\n",
    "soup = BeautifulSoup(html, \"lxml\")"
   ]
  },
  {
   "cell_type": "code",
   "execution_count": 20,
   "id": "3445c049",
   "metadata": {},
   "outputs": [
    {
     "data": {
      "text/plain": [
       "[{'title': 'Cerberus Hemisphere',\n",
       "  'img_url': 'https://marshemispheres.com/images/f5e372a36edfa389625da6d0cc25d905_cerberus_enhanced.tif_full.jpg'},\n",
       " {'title': 'Schiaparelli Hemisphere',\n",
       "  'img_url': 'https://marshemispheres.com/images/3778f7b43bbbc89d6e3cfabb3613ba93_schiaparelli_enhanced.tif_full.jpg'},\n",
       " {'title': 'Syrtis Major Hemisphere',\n",
       "  'img_url': 'https://marshemispheres.com/images/555e6403a6ddd7ba16ddb0e471cadcf7_syrtis_major_enhanced.tif_full.jpg'},\n",
       " {'title': 'Valles Marineris Hemisphere',\n",
       "  'img_url': 'https://marshemispheres.com/images/b3c7c6c9138f57b4756be9b9c43e3a48_valles_marineris_enhanced.tif_full.jpg'}]"
      ]
     },
     "execution_count": 20,
     "metadata": {},
     "output_type": "execute_result"
    }
   ],
   "source": [
    "#loop through page to get titles and image links for all 4 items\n",
    "\n",
    "#list of dictionaries\n",
    "hemisphere_image_urls = []\n",
    "\n",
    "\n",
    "for item in items:\n",
    "    #go to page when clicking on image\n",
    "    image_link = url+item.find(\"a\")[\"href\"]\n",
    "    url2 = image_link\n",
    "    browser.visit(url2)\n",
    "    html2 = browser.html\n",
    "    soup2 = BeautifulSoup(html2, \"lxml\")\n",
    "    \n",
    "    #get title\n",
    "    title = soup2.find(\"h2\", {\"class\":\"title\"}).text.strip('Enhanced').strip()\n",
    "    #get image url (full size)\n",
    "    img_url = url + soup2.find(\"img\", {\"class\":\"wide-image\"})[\"src\"]\n",
    "    \n",
    "    #put into dictionary item\n",
    "    hemisphere_image_urls.append({\"title\": title, \"img_url\": img_url})\n",
    "    \n",
    "    #return to starting page\n",
    "    url = \"https://marshemispheres.com/\"\n",
    "    browser.visit(url)\n",
    "    html = browser.html\n",
    "    soup = BeautifulSoup(html, \"lxml\")\n",
    "\n",
    "hemisphere_image_urls\n",
    "    "
   ]
  },
  {
   "cell_type": "code",
   "execution_count": null,
   "id": "cec3d365",
   "metadata": {},
   "outputs": [],
   "source": []
  },
  {
   "cell_type": "markdown",
   "id": "441903e6",
   "metadata": {},
   "source": [
    "# Moving to Flask App"
   ]
  },
  {
   "cell_type": "code",
   "execution_count": 23,
   "id": "819ab731",
   "metadata": {},
   "outputs": [
    {
     "data": {
      "text/plain": [
       "{'news_title': \"Mars Helicopter Attached to NASA's Perseverance Rover\",\n",
       " 'news_text': \"The team also fueled the rover's sky crane to get ready for this summer's history-making launch.\",\n",
       " 'featured_image_url': 'https://spaceimages-mars.com/image/featured/mars2.jpg',\n",
       " 'mars_info': '<table border=\"1\" class=\"dataframe\">\\n  <thead>\\n    <tr style=\"text-align: right;\">\\n      <th></th>\\n      <th>category</th>\\n      <th>mars_info</th>\\n    </tr>\\n  </thead>\\n  <tbody>\\n    <tr>\\n      <th>0</th>\\n      <td>Equatorial Diameter:</td>\\n      <td>6,792 km</td>\\n    </tr>\\n    <tr>\\n      <th>1</th>\\n      <td>Polar Diameter:</td>\\n      <td>6,752 km</td>\\n    </tr>\\n    <tr>\\n      <th>2</th>\\n      <td>Mass:</td>\\n      <td>6.39 × 10^23 kg (0.11 Earths)</td>\\n    </tr>\\n    <tr>\\n      <th>3</th>\\n      <td>Moons:</td>\\n      <td>2 ( Phobos &amp; Deimos )</td>\\n    </tr>\\n    <tr>\\n      <th>4</th>\\n      <td>Orbit Distance:</td>\\n      <td>227,943,824 km (1.38 AU)</td>\\n    </tr>\\n    <tr>\\n      <th>5</th>\\n      <td>Orbit Period:</td>\\n      <td>687 days (1.9 years)</td>\\n    </tr>\\n    <tr>\\n      <th>6</th>\\n      <td>Surface Temperature:</td>\\n      <td>-87 to -5 °C</td>\\n    </tr>\\n    <tr>\\n      <th>7</th>\\n      <td>First Record:</td>\\n      <td>2nd millennium BC</td>\\n    </tr>\\n    <tr>\\n      <th>8</th>\\n      <td>Recorded By:</td>\\n      <td>Egyptian astronomers</td>\\n    </tr>\\n  </tbody>\\n</table>',\n",
       " 'hemisphere_image_urls': [{'title': 'Cerberus Hemisphere',\n",
       "   'img_url': 'https://marshemispheres.com/images/f5e372a36edfa389625da6d0cc25d905_cerberus_enhanced.tif_full.jpg'},\n",
       "  {'title': 'Schiaparelli Hemisphere',\n",
       "   'img_url': 'https://marshemispheres.com/images/3778f7b43bbbc89d6e3cfabb3613ba93_schiaparelli_enhanced.tif_full.jpg'},\n",
       "  {'title': 'Syrtis Major Hemisphere',\n",
       "   'img_url': 'https://marshemispheres.com/images/555e6403a6ddd7ba16ddb0e471cadcf7_syrtis_major_enhanced.tif_full.jpg'},\n",
       "  {'title': 'Valles Marineris Hemisphere',\n",
       "   'img_url': 'https://marshemispheres.com/images/b3c7c6c9138f57b4756be9b9c43e3a48_valles_marineris_enhanced.tif_full.jpg'}]}"
      ]
     },
     "execution_count": 23,
     "metadata": {},
     "output_type": "execute_result"
    }
   ],
   "source": [
    "#create a list of dictionaries of all items of all terms\n",
    "#assistance in class for html item\n",
    "mars_data = {}\n",
    "mars_data[\"news_title\"]=news_title\n",
    "mars_data[\"news_text\"]=news_text\n",
    "mars_data[\"featured_image_url\"]=featured_image_url\n",
    "mars_data[\"mars_info\"]=mars_info.to_html()\n",
    "mars_data[\"hemisphere_image_urls\"]=hemisphere_image_urls\n",
    "\n",
    "mars_data"
   ]
  },
  {
   "cell_type": "code",
   "execution_count": null,
   "id": "e664fb1e",
   "metadata": {},
   "outputs": [],
   "source": []
  },
  {
   "cell_type": "code",
   "execution_count": null,
   "id": "5fae5642",
   "metadata": {},
   "outputs": [],
   "source": [
    "#browser.quit()"
   ]
  },
  {
   "cell_type": "code",
   "execution_count": null,
   "id": "a2972f36",
   "metadata": {},
   "outputs": [],
   "source": []
  }
 ],
 "metadata": {
  "kernelspec": {
   "display_name": "Python 3 (ipykernel)",
   "language": "python",
   "name": "python3"
  },
  "language_info": {
   "codemirror_mode": {
    "name": "ipython",
    "version": 3
   },
   "file_extension": ".py",
   "mimetype": "text/x-python",
   "name": "python",
   "nbconvert_exporter": "python",
   "pygments_lexer": "ipython3",
   "version": "3.9.7"
  }
 },
 "nbformat": 4,
 "nbformat_minor": 5
}
